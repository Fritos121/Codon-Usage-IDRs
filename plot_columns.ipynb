{
 "cells": [
  {
   "cell_type": "code",
   "execution_count": 32,
   "metadata": {
    "scrolled": true
   },
   "outputs": [],
   "source": [
    "from matplotlib import pyplot as plt\n",
    "import pandas as pd\n",
    "import numpy as np\n",
    "\n",
    "id_in = r'D:\\Orthologs\\Ortholog_Codon_Dist\\PTHR42792\\P04949_ortholog_msa_ID_scores.data'\n",
    "scores_in = r'D:\\Orthologs\\Ortholog_Codon_Dist\\PTHR42792\\P04949_ortholog_msa_column_scores.data'\n",
    "\n",
    "id_fh = open(id_in, 'r')\n",
    "id_scores = id_fh.readline()    # only 1 line in file\n",
    "id_list = list(eval(id_scores))\n",
    "num_columns = len(id_list)\n",
    "\n",
    "id_list2 = [x for x in id_list if x != ('x', 1.0)]    # lose column position, might need later\n",
    "# print(id_list)\n",
    "\n",
    "scores_fh = open(scores_in, 'r')\n",
    "scores = scores_fh.readline()\n",
    "scores_list = list(eval(scores))\n",
    "scores_list2 = [x for x in scores_list if 'X' not in x]\n",
    "# print(scores_list)"
   ]
  },
  {
   "cell_type": "code",
   "execution_count": 46,
   "metadata": {
    "scrolled": true
   },
   "outputs": [
    {
     "name": "stdout",
     "output_type": "stream",
     "text": [
      "                                   0                     1    \\\n",
      "Identity                             M                     R   \n",
      "Percent Identity     91.83673469387756     28.57142857142857   \n",
      "Avg Blosum62 Score                 5.0  -0.15961945031712474   \n",
      "Avg Frequency Score                1.0    0.5227272727272727   \n",
      "\n",
      "                                    2                   3    \\\n",
      "Identity                              I                   N   \n",
      "Percent Identity      55.10204081632652   71.42857142857143   \n",
      "Avg Blosum62 Score    3.008080808080808  3.3217391304347825   \n",
      "Avg Frequency Score  0.6444444444444445  0.6086956521739131   \n",
      "\n",
      "                                    4                   5    \\\n",
      "Identity                              T                   N   \n",
      "Percent Identity       65.3061224489796   91.83673469387756   \n",
      "Avg Blosum62 Score   1.9739130434782608  5.6521739130434785   \n",
      "Avg Frequency Score  0.6304347826086957  0.6739130434782609   \n",
      "\n",
      "                                    6                    7    \\\n",
      "Identity                              V                    S   \n",
      "Percent Identity      26.53061224489796   30.612244897959183   \n",
      "Avg Blosum62 Score   1.0589371980676328  0.47363552266419984   \n",
      "Avg Frequency Score  0.6521739130434783   0.5531914893617021   \n",
      "\n",
      "                                    8                   9    ...  \\\n",
      "Identity                              A                   L  ...   \n",
      "Percent Identity      48.97959183673469  42.857142857142854  ...   \n",
      "Avg Blosum62 Score   1.9629972247918595   1.658649398704903  ...   \n",
      "Avg Frequency Score  0.5957446808510638  0.8723404255319149  ...   \n",
      "\n",
      "                                    251                252  \\\n",
      "Identity                              A                  N   \n",
      "Percent Identity      77.55102040816327  69.38775510204081   \n",
      "Avg Blosum62 Score   2.8777777777777778  3.214141414141414   \n",
      "Avg Frequency Score  0.6666666666666666                0.6   \n",
      "\n",
      "                                    253                  254  \\\n",
      "Identity                              Q                    L   \n",
      "Percent Identity      48.97959183673469   14.285714285714285   \n",
      "Avg Blosum62 Score   1.2424242424242424  -0.4144927536231884   \n",
      "Avg Frequency Score  0.7555555555555555   0.7608695652173914   \n",
      "\n",
      "                                    255                 256  \\\n",
      "Identity                              P                   Q   \n",
      "Percent Identity       67.3469387755102  61.224489795918366   \n",
      "Avg Blosum62 Score   3.1797101449275362  2.1616161616161618   \n",
      "Avg Frequency Score  0.8260869565217391  0.7555555555555555   \n",
      "\n",
      "                                    257                 258  \\\n",
      "Identity                              L                   S   \n",
      "Percent Identity       67.3469387755102   34.69387755102041   \n",
      "Avg Blosum62 Score   1.8636363636363635  0.9414141414141414   \n",
      "Avg Frequency Score  0.6888888888888889                 0.8   \n",
      "\n",
      "                                    259                260  \n",
      "Identity                              L                  L  \n",
      "Percent Identity      85.71428571428571  79.59183673469387  \n",
      "Avg Blosum62 Score    3.608080808080808  3.195959595959596  \n",
      "Avg Frequency Score  0.8666666666666667                0.8  \n",
      "\n",
      "[4 rows x 261 columns]\n"
     ]
    }
   ],
   "source": [
    "id_aa = []\n",
    "id_percent = []\n",
    "for aa, percent in id_list2:\n",
    "    id_aa.append(aa)\n",
    "    id_percent.append(percent*100)\n",
    "    \n",
    "cons_score = []\n",
    "freq_score = []\n",
    "for cons, freq in scores_list2:\n",
    "    cons_score.append(cons)\n",
    "    freq_score.append(freq)\n",
    "    \n",
    "\n",
    "df = pd.DataFrame(np.array([id_aa, id_percent, cons_score, freq_score]), \n",
    "                  index=['Identity', 'Percent Identity', 'Avg Blosum62 Score', 'Avg Frequency Score'])\n",
    "print(df)"
   ]
  },
  {
   "cell_type": "code",
   "execution_count": 49,
   "metadata": {},
   "outputs": [
    {
     "data": {
      "image/png": "[encoded data removed]",
      "text/plain": [
       "<Figure size 432x288 with 1 Axes>"
      ]
     },
     "metadata": {
      "needs_background": "light"
     },
     "output_type": "display_data"
    }
   ],
   "source": [
    "#fig = plt.figure()\n",
    "#ax = fig.add_axes([0,0,1,1])\n",
    "%matplotlib inline\n",
    "plt.scatter(freq_score, cons_score)\n",
    "plt.title(\"Per Column Scores\")\n",
    "plt.xlabel('Avg Frequency Score')\n",
    "plt.ylabel(\"Avg Blosum62 Score\")\n",
    "plt.show()\n"
   ]
  },
  {
   "cell_type": "code",
   "execution_count": null,
   "metadata": {},
   "outputs": [],
   "source": []
  }
 ],
 "metadata": {
  "kernelspec": {
   "display_name": "Python 3",
   "language": "python",
   "name": "python3"
  },
  "language_info": {
   "codemirror_mode": {
    "name": "ipython",
    "version": 3
   },
   "file_extension": ".py",
   "mimetype": "text/x-python",
   "name": "python",
   "nbconvert_exporter": "python",
   "pygments_lexer": "ipython3",
   "version": "3.7.0"
  }
 },
 "nbformat": 4,
 "nbformat_minor": 4
}
